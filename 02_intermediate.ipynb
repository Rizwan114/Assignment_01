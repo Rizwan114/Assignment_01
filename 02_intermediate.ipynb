{
  "nbformat": 4,
  "nbformat_minor": 0,
  "metadata": {
    "colab": {
      "provenance": [],
      "authorship_tag": "ABX9TyP2wac7PAnGmKqEz0ALecy/",
      "include_colab_link": true
    },
    "kernelspec": {
      "name": "python3",
      "display_name": "Python 3"
    },
    "language_info": {
      "name": "python"
    }
  },
  "cells": [
    {
      "cell_type": "markdown",
      "metadata": {
        "id": "view-in-github",
        "colab_type": "text"
      },
      "source": [
        "<a href=\"https://colab.research.google.com/github/Rizwan114/Assignment_01/blob/main/02_intermediate.ipynb\" target=\"_parent\"><img src=\"https://colab.research.google.com/assets/colab-badge.svg\" alt=\"Open In Colab\"/></a>"
      ]
    },
    {
      "cell_type": "markdown",
      "source": [
        "#**handout**"
      ],
      "metadata": {
        "id": "jrgkWa5EvpmX"
      }
    },
    {
      "cell_type": "code",
      "execution_count": 8,
      "metadata": {
        "colab": {
          "base_uri": "https://localhost:8080/"
        },
        "id": "H5B1bufhvpAL",
        "outputId": "dbc902e9-31b2-4617-dcf6-fed19d737cd3"
      },
      "outputs": [
        {
          "output_type": "stream",
          "name": "stdout",
          "text": [
            "Welcome to the High-Low Game!\n",
            "--------------------------------\n",
            "Round 1\n",
            "Your number is 27\n",
            "Do you think your number is higher or lower than the computer's? (Type 'exit' to quit): 12\n",
            "Please enter either 'higher', 'lower', or 'exit' to quit: 22\n",
            "Please enter either 'higher', 'lower', or 'exit' to quit: exit\n",
            "Thanks for playing! You exited the game early.\n",
            "Thanks for playing!\n",
            "Your final score is 0\n",
            "Better luck next time! 😊\n"
          ]
        }
      ],
      "source": [
        "import random\n",
        "\n",
        "NUM_ROUNDS = 5\n",
        "MIN_VALUE = 1\n",
        "MAX_VALUE = 100\n",
        "\n",
        "def get_valid_guess():\n",
        "    guess = input(\"Do you think your number is higher or lower than the computer's? (Type 'exit' to quit): \").lower()\n",
        "    while guess not in [\"higher\", \"lower\", \"exit\"]:\n",
        "        guess = input(\"Please enter either 'higher', 'lower', or 'exit' to quit: \").lower()\n",
        "    return guess\n",
        "\n",
        "def main():\n",
        "    print(\"Welcome to the High-Low Game!\")\n",
        "    print(\"--------------------------------\")\n",
        "\n",
        "    score = 0\n",
        "\n",
        "    for round_num in range(1, NUM_ROUNDS + 1):\n",
        "        print(f\"Round {round_num}\")\n",
        "        user_number = random.randint(MIN_VALUE, MAX_VALUE)\n",
        "        computer_number = random.randint(MIN_VALUE, MAX_VALUE)\n",
        "\n",
        "        print(f\"Your number is {user_number}\")\n",
        "        guess = get_valid_guess()\n",
        "\n",
        "        if guess == \"exit\":\n",
        "            print(\"Thanks for playing! You exited the game early.\")\n",
        "            break\n",
        "\n",
        "        correct = False\n",
        "        if guess == \"higher\" and user_number > computer_number:\n",
        "            correct = True\n",
        "        elif guess == \"lower\" and user_number < computer_number:\n",
        "            correct = True\n",
        "\n",
        "        if correct:\n",
        "            print(f\"You were right! The computer's number was {computer_number}\")\n",
        "            score += 1\n",
        "        else:\n",
        "            print(f\"Aww, that's incorrect. The computer's number was {computer_number}\")\n",
        "\n",
        "        print(f\"Your score is now {score}\")\n",
        "        print()\n",
        "\n",
        "    print(\"Thanks for playing!\")\n",
        "    print(f\"Your final score is {score}\")\n",
        "\n",
        "    if score == NUM_ROUNDS:\n",
        "        print(\"Wow! You played perfectly! 🎯\")\n",
        "    elif score >= NUM_ROUNDS // 2:\n",
        "        print(\"Good job, you played really well! 👍\")\n",
        "    else:\n",
        "        print(\"Better luck next time! 😊\")\n",
        "\n",
        "if __name__ == '__main__':\n",
        "    main()"
      ]
    },
    {
      "cell_type": "markdown",
      "source": [
        "#**solution**"
      ],
      "metadata": {
        "id": "rSozi5hywTxN"
      }
    },
    {
      "cell_type": "code",
      "source": [
        "import random\n",
        "\n",
        "NUM_ROUNDS = 5\n",
        "\n",
        "def main():\n",
        "    print(\"Welcome to the High-Low Game!\")\n",
        "    print('--------------------------------')\n",
        "\n",
        "    your_score = 0\n",
        "\n",
        "    for i in range(NUM_ROUNDS):\n",
        "        print(f\"Round {i + 1}\")\n",
        "\n",
        "        computer_num = random.randint(1, 100)\n",
        "        your_num = random.randint(1, 100)\n",
        "\n",
        "        print(\"Your number is\", your_num)\n",
        "\n",
        "        choice = input(\"Do you think your number is higher or lower than the computer's? (Type 'higher', 'lower' or 'exit' to quit): \").lower()\n",
        "\n",
        "        if choice == \"exit\":\n",
        "            print(\"Thanks for playing! You exited the game early.\")\n",
        "            break\n",
        "\n",
        "        while choice not in [\"higher\", \"lower\"]:\n",
        "            choice = input(\"Please enter either 'higher' or 'lower' or 'exit' to quit: \").lower()\n",
        "\n",
        "        if (choice == \"higher\" and your_num > computer_num) or (choice == \"lower\" and your_num < computer_num):\n",
        "            print(\"You were right! The computer's number was\", computer_num)\n",
        "            your_score += 1\n",
        "        else:\n",
        "            print(\"Aww, that's incorrect. The computer's number was\", computer_num)\n",
        "\n",
        "        print(\"Your score is now\", your_score)\n",
        "        print()\n",
        "\n",
        "    print(\"Thanks for playing!\")\n",
        "    print(\"Your final score is\", your_score)\n",
        "\n",
        "    if your_score == NUM_ROUNDS:\n",
        "        print(\"Wow! You played perfectly! 🎯\")\n",
        "    elif your_score >= NUM_ROUNDS // 2:\n",
        "        print(\"Good job, you played really well! 👍\")\n",
        "    else:\n",
        "        print(\"Better luck next time! 😊\")\n",
        "\n",
        "if __name__ == \"__main__\":\n",
        "    main()"
      ],
      "metadata": {
        "colab": {
          "base_uri": "https://localhost:8080/"
        },
        "id": "DDVHmdCOwaJD",
        "outputId": "81782bfd-c40e-4f7d-bc5d-d7e11f4f3b67"
      },
      "execution_count": 7,
      "outputs": [
        {
          "output_type": "stream",
          "name": "stdout",
          "text": [
            "Welcome to the High-Low Game!\n",
            "--------------------------------\n",
            "Round 1\n",
            "Your number is 26\n",
            "Do you think your number is higher or lower than the computer's? (Type 'higher', 'lower' or 'exit' to quit): higher\n",
            "Aww, that's incorrect. The computer's number was 59\n",
            "Your score is now 0\n",
            "\n",
            "Round 2\n",
            "Your number is 28\n",
            "Do you think your number is higher or lower than the computer's? (Type 'higher', 'lower' or 'exit' to quit): lower\n",
            "You were right! The computer's number was 69\n",
            "Your score is now 1\n",
            "\n",
            "Round 3\n",
            "Your number is 68\n",
            "Do you think your number is higher or lower than the computer's? (Type 'higher', 'lower' or 'exit' to quit): exit\n",
            "Thanks for playing! You exited the game early.\n",
            "Thanks for playing!\n",
            "Your final score is 1\n",
            "Better luck next time! 😊\n"
          ]
        }
      ]
    },
    {
      "cell_type": "markdown",
      "source": [
        "#**starter_code**"
      ],
      "metadata": {
        "id": "_YMvB62Ew7hO"
      }
    },
    {
      "cell_type": "code",
      "source": [
        "import random\n",
        "\n",
        "NUM_ROUNDS = 5\n",
        "\n",
        "def main():\n",
        "    print(\"Welcome to the High-Low Game!\")\n",
        "    print('--------------------------------')\n",
        "\n",
        "    your_score = 0\n",
        "\n",
        "    for i in range(NUM_ROUNDS):\n",
        "        print(f\"Round {i + 1}\")\n",
        "\n",
        "        computer_num = random.randint(1, 100)\n",
        "        your_num = random.randint(1, 100)\n",
        "\n",
        "        print(\"Your number is\", your_num)\n",
        "\n",
        "        choice = input(\"Do you think your number is higher or lower than the computer's? (Type 'higher', 'lower' or 'exit' to quit): \").lower()\n",
        "\n",
        "        if choice == \"exit\":\n",
        "            print(\"Thanks for playing! You exited the game early.\")\n",
        "            break\n",
        "\n",
        "        while choice not in [\"higher\", \"lower\"]:\n",
        "            choice = input(\"Please enter either 'higher' or 'lower' or 'exit' to quit: \").lower()\n",
        "\n",
        "        if (choice == \"higher\" and your_num > computer_num) or (choice == \"lower\" and your_num < computer_num):\n",
        "            print(\"You were right! The computer's number was\", computer_num)\n",
        "            your_score += 1\n",
        "        else:\n",
        "            print(\"Aww, that's incorrect. The computer's number was\", computer_num)\n",
        "\n",
        "        print(\"Your score is now\", your_score)\n",
        "        print()\n",
        "\n",
        "    print(\"Thanks for playing!\")\n",
        "    print(\"Your final score is\", your_score)\n",
        "\n",
        "    if your_score == NUM_ROUNDS:\n",
        "        print(\"Wow! You played perfectly! 🎯\")\n",
        "    elif your_score >= NUM_ROUNDS // 2:\n",
        "        print(\"Good job, you played really well! 👍\")\n",
        "    else:\n",
        "        print(\"Better luck next time! 😊\")\n",
        "\n",
        "if __name__ == \"__main__\":\n",
        "    main()"
      ],
      "metadata": {
        "colab": {
          "base_uri": "https://localhost:8080/"
        },
        "id": "P-fHNcRAxBI0",
        "outputId": "8cdc11c4-18dc-462a-d929-310a1bc377e6"
      },
      "execution_count": 6,
      "outputs": [
        {
          "output_type": "stream",
          "name": "stdout",
          "text": [
            "Welcome to the High-Low Game!\n",
            "--------------------------------\n",
            "Round 1\n",
            "Your number is 8\n",
            "Do you think your number is higher or lower than the computer's? (Type 'higher', 'lower' or 'exit' to quit): higher\n",
            "Aww, that's incorrect. The computer's number was 93\n",
            "Your score is now 0\n",
            "\n",
            "Round 2\n",
            "Your number is 14\n",
            "Do you think your number is higher or lower than the computer's? (Type 'higher', 'lower' or 'exit' to quit): lower\n",
            "Aww, that's incorrect. The computer's number was 6\n",
            "Your score is now 0\n",
            "\n",
            "Round 3\n",
            "Your number is 87\n",
            "Do you think your number is higher or lower than the computer's? (Type 'higher', 'lower' or 'exit' to quit): exit\n",
            "Thanks for playing! You exited the game early.\n",
            "Thanks for playing!\n",
            "Your final score is 0\n",
            "Better luck next time! 😊\n"
          ]
        }
      ]
    }
  ]
}