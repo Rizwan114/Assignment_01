{
  "nbformat": 4,
  "nbformat_minor": 0,
  "metadata": {
    "colab": {
      "provenance": [],
      "authorship_tag": "ABX9TyMq4fOhnpn7umZP8aUGNSxU",
      "include_colab_link": true
    },
    "kernelspec": {
      "name": "python3",
      "display_name": "Python 3"
    },
    "language_info": {
      "name": "python"
    }
  },
  "cells": [
    {
      "cell_type": "markdown",
      "metadata": {
        "id": "view-in-github",
        "colab_type": "text"
      },
      "source": [
        "<a href=\"https://colab.research.google.com/github/Rizwan114/Assignment_01/blob/main/Intro_to_Python.ipynb\" target=\"_parent\"><img src=\"https://colab.research.google.com/assets/colab-badge.svg\" alt=\"Open In Colab\"/></a>"
      ]
    },
    {
      "cell_type": "markdown",
      "source": [
        "#**handout**"
      ],
      "metadata": {
        "id": "5_stc6pBzqw6"
      }
    },
    {
      "cell_type": "code",
      "execution_count": 1,
      "metadata": {
        "colab": {
          "base_uri": "https://localhost:8080/"
        },
        "id": "Bk9SSXtuzp_u",
        "outputId": "642c3a12-96c4-43ba-d9ba-5429232808e4"
      },
      "outputs": [
        {
          "output_type": "stream",
          "name": "stdout",
          "text": [
            "Welcome to the Planetary Weight Calculator!\n",
            "Type 'exit' anytime to quit the program.\n",
            "Enter a weight on Earth: 22..4\n",
            "Please enter a valid numeric weight.\n",
            "Enter a weight on Earth: exit\n",
            "Exiting the program. Goodbye!\n"
          ]
        }
      ],
      "source": [
        "def get_planetary_weight(earth_weight, planet):\n",
        "\n",
        "    planet_gravity = {\n",
        "        \"Mercury\": 0.376,\n",
        "        \"Venus\": 0.889,\n",
        "        \"Mars\": 0.378,\n",
        "        \"Jupiter\": 2.360,\n",
        "        \"Saturn\": 1.081,\n",
        "        \"Uranus\": 0.815,\n",
        "        \"Neptune\": 1.140\n",
        "    }\n",
        "\n",
        "    if planet in planet_gravity:\n",
        "\n",
        "        planet_weight = earth_weight * planet_gravity[planet]\n",
        "\n",
        "        return round(planet_weight, 2)\n",
        "    else:\n",
        "        return None\n",
        "\n",
        "def main():\n",
        "    print(\"Welcome to the Planetary Weight Calculator!\")\n",
        "    print(\"Type 'exit' anytime to quit the program.\")\n",
        "\n",
        "    while True:\n",
        "\n",
        "        earth_weight_input = input(\"Enter a weight on Earth: \")\n",
        "\n",
        "        if earth_weight_input.lower() == 'exit':\n",
        "            print(\"Exiting the program. Goodbye!\")\n",
        "            break\n",
        "\n",
        "        try:\n",
        "            earth_weight = float(earth_weight_input)\n",
        "        except ValueError:\n",
        "            print(\"Please enter a valid numeric weight.\")\n",
        "            continue\n",
        "\n",
        "        planet = input(\"Enter a planet: \")\n",
        "\n",
        "        if planet.lower() == 'exit':\n",
        "            print(\"Exiting the program. Goodbye!\")\n",
        "            break\n",
        "\n",
        "        result = get_planetary_weight(earth_weight, planet)\n",
        "\n",
        "        if result is not None:\n",
        "            print(f\"The equivalent weight on {planet}: {result}\")\n",
        "        else:\n",
        "            print(\"Invalid planet name. Please enter a valid planet from the list.\")\n",
        "\n",
        "if __name__ == \"__main__\":\n",
        "    main()"
      ]
    },
    {
      "cell_type": "markdown",
      "source": [
        "#**solution**"
      ],
      "metadata": {
        "id": "MvDsrKM50ojd"
      }
    },
    {
      "cell_type": "code",
      "source": [
        "MERCURY_GRAVITY = 0.376\n",
        "VENUS_GRAVITY = 0.889\n",
        "MARS_GRAVITY = 0.378\n",
        "JUPITER_GRAVITY = 2.36\n",
        "SATURN_GRAVITY = 1.081\n",
        "URANUS_GRAVITY = 0.815\n",
        "NEPTUNE_GRAVITY = 1.14\n",
        "EARTH_GRAVITY = 1.0\n",
        "\n",
        "def main():\n",
        "    print(\"Welcome to the Planetary Weight Calculator!\")\n",
        "    print(\"Type 'exit' anytime to quit the program.\")\n",
        "\n",
        "    while True:\n",
        "\n",
        "        earth_weight_str = input(\"Enter a weight on Earth (or type 'exit' to quit): \")\n",
        "\n",
        "        if earth_weight_str.lower() == 'exit':\n",
        "            print(\"Exiting the program. Goodbye!\")\n",
        "            break\n",
        "\n",
        "        try:\n",
        "\n",
        "            earth_weight = float(earth_weight_str)\n",
        "        except ValueError:\n",
        "            print(\"Please enter a valid numeric weight.\")\n",
        "            continue\n",
        "\n",
        "        planet = input(\"Enter a planet (e.g., Mercury, Venus, Mars, etc.): \")\n",
        "\n",
        "        if planet.lower() == 'exit':\n",
        "            print(\"Exiting the program. Goodbye!\")\n",
        "            break\n",
        "\n",
        "        if planet == \"Mercury\":\n",
        "            gravity_constant = MERCURY_GRAVITY\n",
        "        elif planet == \"Venus\":\n",
        "            gravity_constant = VENUS_GRAVITY\n",
        "        elif planet == \"Mars\":\n",
        "            gravity_constant = MARS_GRAVITY\n",
        "        elif planet == \"Jupiter\":\n",
        "            gravity_constant = JUPITER_GRAVITY\n",
        "        elif planet == \"Saturn\":\n",
        "            gravity_constant = SATURN_GRAVITY\n",
        "        elif planet == \"Uranus\":\n",
        "            gravity_constant = URANUS_GRAVITY\n",
        "        elif planet == \"Neptune\":\n",
        "            gravity_constant = NEPTUNE_GRAVITY\n",
        "        else:\n",
        "            print(\"Invalid planet name. Please enter a valid planet name.\")\n",
        "            continue\n",
        "\n",
        "        planetary_weight = earth_weight * gravity_constant\n",
        "\n",
        "        rounded_planetary_weight = round(planetary_weight, 2)\n",
        "\n",
        "        print(f\"The equivalent weight on {planet}: {rounded_planetary_weight}\")\n",
        "\n",
        "if __name__ == \"__main__\":\n",
        "    main()"
      ],
      "metadata": {
        "colab": {
          "base_uri": "https://localhost:8080/"
        },
        "id": "LAVUz7Vv0uuL",
        "outputId": "8fdf1351-8289-46dc-d531-3a8b8fcf9de2"
      },
      "execution_count": 2,
      "outputs": [
        {
          "output_type": "stream",
          "name": "stdout",
          "text": [
            "Welcome to the Planetary Weight Calculator!\n",
            "Type 'exit' anytime to quit the program.\n",
            "Enter a weight on Earth (or type 'exit' to quit): 3332\n",
            "Enter a planet (e.g., Mercury, Venus, Mars, etc.): exit\n",
            "Exiting the program. Goodbye!\n"
          ]
        }
      ]
    },
    {
      "cell_type": "markdown",
      "source": [
        "#**starter_code**"
      ],
      "metadata": {
        "id": "481y6r0r1fJX"
      }
    },
    {
      "cell_type": "code",
      "source": [
        "MERCURY_GRAVITY = 0.376\n",
        "VENUS_GRAVITY = 0.889\n",
        "MARS_GRAVITY = 0.378\n",
        "JUPITER_GRAVITY = 2.36\n",
        "SATURN_GRAVITY = 1.081\n",
        "URANUS_GRAVITY = 0.815\n",
        "NEPTUNE_GRAVITY = 1.14\n",
        "EARTH_GRAVITY = 1.0\n",
        "\n",
        "def main():\n",
        "\n",
        "    earth_weight_str = input(\"Enter a weight on Earth: \")\n",
        "\n",
        "    try:\n",
        "        earth_weight = float(earth_weight_str)\n",
        "    except ValueError:\n",
        "        print(\"Please enter a valid numeric weight.\")\n",
        "        return\n",
        "\n",
        "    planet = input(\"Enter a planet (e.g., Mercury, Venus, Mars, etc.): \")\n",
        "\n",
        "    if planet == \"Mercury\":\n",
        "        gravity_constant = MERCURY_GRAVITY\n",
        "    elif planet == \"Venus\":\n",
        "        gravity_constant = VENUS_GRAVITY\n",
        "    elif planet == \"Mars\":\n",
        "        gravity_constant = MARS_GRAVITY\n",
        "    elif planet == \"Jupiter\":\n",
        "        gravity_constant = JUPITER_GRAVITY\n",
        "    elif planet == \"Saturn\":\n",
        "        gravity_constant = SATURN_GRAVITY\n",
        "    elif planet == \"Uranus\":\n",
        "        gravity_constant = URANUS_GRAVITY\n",
        "    elif planet == \"Neptune\":\n",
        "        gravity_constant = NEPTUNE_GRAVITY\n",
        "    else:\n",
        "        print(\"Invalid planet name. Please enter a valid planet name.\")\n",
        "        return\n",
        "\n",
        "    planetary_weight = earth_weight * gravity_constant\n",
        "\n",
        "    rounded_planetary_weight = round(planetary_weight, 2)\n",
        "\n",
        "    print(f\"The equivalent weight on {planet}: {rounded_planetary_weight}\")\n",
        "\n",
        "if __name__ == \"__main__\":\n",
        "    main()"
      ],
      "metadata": {
        "colab": {
          "base_uri": "https://localhost:8080/"
        },
        "id": "JIofTrTi1fuJ",
        "outputId": "d0077281-8c24-4e5a-9d7b-3cc973111f09"
      },
      "execution_count": 3,
      "outputs": [
        {
          "output_type": "stream",
          "name": "stdout",
          "text": [
            "Enter a weight on Earth: 3323\n",
            "Enter a planet (e.g., Mercury, Venus, Mars, etc.): 12314\n",
            "Invalid planet name. Please enter a valid planet name.\n"
          ]
        }
      ]
    }
  ]
}