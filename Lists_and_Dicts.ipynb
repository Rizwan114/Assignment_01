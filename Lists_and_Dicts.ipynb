{
  "nbformat": 4,
  "nbformat_minor": 0,
  "metadata": {
    "colab": {
      "provenance": [],
      "authorship_tag": "ABX9TyO04sY/phHWioP4+Vn/rD3s",
      "include_colab_link": true
    },
    "kernelspec": {
      "name": "python3",
      "display_name": "Python 3"
    },
    "language_info": {
      "name": "python"
    }
  },
  "cells": [
    {
      "cell_type": "markdown",
      "metadata": {
        "id": "view-in-github",
        "colab_type": "text"
      },
      "source": [
        "<a href=\"https://colab.research.google.com/github/Rizwan114/Assignment_01/blob/main/Lists_and_Dicts.ipynb\" target=\"_parent\"><img src=\"https://colab.research.google.com/assets/colab-badge.svg\" alt=\"Open In Colab\"/></a>"
      ]
    },
    {
      "cell_type": "markdown",
      "source": [
        "#**handout**"
      ],
      "metadata": {
        "id": "2AvUiRrx2QGJ"
      }
    },
    {
      "cell_type": "code",
      "execution_count": null,
      "metadata": {
        "id": "Au_WwzCt2OBm"
      },
      "outputs": [],
      "source": [
        "def access_element(lst, index):\n",
        "    \"\"\"Access an element by index in the list.\"\"\"\n",
        "    if index < 0 or index >= len(lst):\n",
        "        return \"Index out of range\"\n",
        "    return lst[index]\n",
        "\n",
        "def modify_element(lst, index, new_value):\n",
        "    \"\"\"Modify an element at a given index.\"\"\"\n",
        "    if index < 0 or index >= len(lst):\n",
        "        return \"Index out of range\"\n",
        "    lst[index] = new_value\n",
        "    return lst\n",
        "\n",
        "def slice_list(lst, start_index, end_index):\n",
        "    \"\"\"Return a sliced list from start_index to end_index.\"\"\"\n",
        "    if start_index < 0 or end_index > len(lst):\n",
        "        return \"Index out of range\"\n",
        "    return lst[start_index:end_index]\n",
        "\n",
        "def game():\n",
        "\n",
        "    my_list = [10, \"apple\", 3.14, \"banana\", True]\n",
        "\n",
        "    print(\"Welcome to the Index Game!\")\n",
        "    print(\"Your list is:\", my_list)\n",
        "\n",
        "    while True:\n",
        "        print(\"\\nSelect an operation:\")\n",
        "        print(\"1. Access an element\")\n",
        "        print(\"2. Modify an element\")\n",
        "        print(\"3. Slice the list\")\n",
        "        print(\"4. Exit\")\n",
        "\n",
        "        choice = input(\"Enter the number of your choice: \")\n",
        "\n",
        "        if choice == '1':\n",
        "\n",
        "            index = int(input(\"Enter an index to access: \"))\n",
        "            result = access_element(my_list, index)\n",
        "            print(\"Element at index\", index, \":\", result)\n",
        "\n",
        "        elif choice == '2':\n",
        "\n",
        "            index = int(input(\"Enter the index to modify: \"))\n",
        "            new_value = input(\"Enter the new value: \")\n",
        "            result = modify_element(my_list, index, new_value)\n",
        "            print(\"Updated list:\", result)\n",
        "\n",
        "        elif choice == '3':\n",
        "\n",
        "            start_index = int(input(\"Enter the start index for slicing: \"))\n",
        "            end_index = int(input(\"Enter the end index for slicing: \"))\n",
        "            result = slice_list(my_list, start_index, end_index)\n",
        "            print(\"Sliced list:\", result)\n",
        "\n",
        "        elif choice == '4':\n",
        "\n",
        "            print(\"Thanks for playing the Index Game!\")\n",
        "            break\n",
        "\n",
        "        else:\n",
        "            print(\"Invalid choice. Please try again.\")\n",
        "\n",
        "if __name__ == \"__main__\":\n",
        "    game()"
      ]
    },
    {
      "cell_type": "markdown",
      "source": [
        "#**solution**"
      ],
      "metadata": {
        "id": "j2HoeQrZ26xG"
      }
    },
    {
      "cell_type": "code",
      "source": [
        "def access_element(lst, index):\n",
        "    try:\n",
        "        return lst[index]\n",
        "    except IndexError:\n",
        "        return \"Index out of range.\"\n",
        "\n",
        "def modify_element(lst, index, new_value):\n",
        "    try:\n",
        "        lst[index] = new_value\n",
        "        return lst\n",
        "    except IndexError:\n",
        "        return \"Index out of range.\"\n",
        "\n",
        "def slice_list(lst, start, end):\n",
        "    try:\n",
        "        return lst[start:end]\n",
        "    except IndexError:\n",
        "        return \"Invalid indices.\"\n",
        "\n",
        "def index_game():\n",
        "    lst = [1, 2, 3, 4, 5]\n",
        "    print(\"Current list:\", lst)\n",
        "    print(\"Choose an operation: access, modify, slice\")\n",
        "    operation = input(\"Enter operation: \")\n",
        "\n",
        "    if operation == \"access\":\n",
        "        index = int(input(\"Enter index to access: \"))\n",
        "        print(access_element(lst, index))\n",
        "    elif operation == \"modify\":\n",
        "        index = int(input(\"Enter index to modify: \"))\n",
        "        new_value = input(\"Enter new value: \")\n",
        "        print(modify_element(lst, index, new_value))\n",
        "    elif operation == \"slice\":\n",
        "        start = int(input(\"Enter start index: \"))\n",
        "        end = int(input(\"Enter end index: \"))\n",
        "        print(slice_list(lst, start, end))\n",
        "    else:\n",
        "        print(\"Invalid operation.\")\n",
        "\n",
        "if __name__ == \"__main__\":\n",
        "    index_game()"
      ],
      "metadata": {
        "id": "zf107c5S3AwW"
      },
      "execution_count": null,
      "outputs": []
    }
  ]
}